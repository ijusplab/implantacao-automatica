{
  "nbformat": 4,
  "nbformat_minor": 0,
  "metadata": {
    "colab": {
      "name": "Implantacao_LOAS.ipynb",
      "provenance": [],
      "private_outputs": true,
      "collapsed_sections": [],
      "authorship_tag": "ABX9TyOf5nrr4AuhlgPwePNPfanQ",
      "include_colab_link": true
    },
    "kernelspec": {
      "name": "python3",
      "display_name": "Python 3"
    }
  },
  "cells": [
    {
      "cell_type": "markdown",
      "metadata": {
        "id": "view-in-github",
        "colab_type": "text"
      },
      "source": [
        "<a href=\"https://colab.research.google.com/github/ijusplab/implantacao-automatica/blob/master/Implantacao_LOAS.ipynb\" target=\"_parent\"><img src=\"https://colab.research.google.com/assets/colab-badge.svg\" alt=\"Open In Colab\"/></a>"
      ]
    },
    {
      "cell_type": "markdown",
      "metadata": {
        "id": "ExKamrA-ZWAQ",
        "colab_type": "text"
      },
      "source": [
        "# Criação de Planilha de Execução Semi-Automática para B-87 e B-88"
      ]
    },
    {
      "cell_type": "markdown",
      "metadata": {
        "id": "kSPZNx8LZfpb",
        "colab_type": "text"
      },
      "source": [
        "**ENTRADA DE DADOS**\n",
        "\n",
        "1) Primeiro entre com o número do lote e pressione `CTRL-ENTER`.\n",
        "\n",
        "2) Se o o botão de `upload` não aparecer em poucos segundos, tente executar a célula clicando no símbolo ▶️.\n",
        "\n",
        "3) Carregue os arquivos `pdf` das sentenças proferidas em relação ao lote."
      ]
    },
    {
      "cell_type": "code",
      "metadata": {
        "id": "bNdsNidKZQEP",
        "colab_type": "code",
        "colab": {},
        "cellView": "both"
      },
      "source": [
        "LOTE = \"\" #@param {type:\"string\"}\n",
        "\n",
        "!pip install PyPDF2\n",
        "\n",
        "from google.colab import files\n",
        "import pandas as pd\n",
        "import re, os, PyPDF2\n",
        "from IPython.display import display, HTML\n",
        "\n",
        "def get_text_from_pdf(file_name):\n",
        "  pdfFileObj = open(file_name, 'rb')\n",
        "  pdfReader = PyPDF2.PdfFileReader(pdfFileObj)\n",
        "  content = []\n",
        "  for num in range(pdfReader.numPages):\n",
        "    page = pdfReader.getPage(num)\n",
        "    try:\n",
        "      text = page.extractText()\n",
        "    except:\n",
        "      text = ''\n",
        "    content.append(text)\n",
        "  return ''.join(content)\n",
        "\n",
        "def obterEspecie(val):\n",
        "  if re.compile('IDOS[AO]|88').search(val.upper()):\n",
        "    return 88\n",
        "  else:\n",
        "    return 87\n",
        "\n",
        "class PDFReader:\n",
        "  def __init__(self):\n",
        "    _files = files.upload()\n",
        "    self.sources = []\n",
        "    if len(_files) > 0:\n",
        "      for name, content in _files.items():\n",
        "        if re.match('^.+\\.(pdf)$', name):\n",
        "          self.sources.append({\n",
        "              'name': name,\n",
        "              'content': get_text_from_pdf(name)\n",
        "          })\n",
        "        else:\n",
        "          print('>>>> ATENÇÃO')\n",
        "          print('>>>> O arquivo ' + name + ' não é um pdf')\n",
        "  \n",
        "  def isEmpty(self):\n",
        "    return len(self.sources) == 0\n",
        "\n",
        "  def read(self):\n",
        "    patterns = {\n",
        "        'processo': re.compile('PROCESSO:\\s*?(\\d{7}\\-\\d{2}\\.\\d{4}\\.\\d\\.\\d{2}\\.\\d{4})', re.DOTALL),\n",
        "        'especie': re.compile('ESP[ÉE]CIE DO NB:\\s([À-ü]?.*)RMI', re.DOTALL),\n",
        "        'DIB': re.compile('DIB:\\s*?(\\d{1,2}[/\\-.]\\d{1,2}[/\\-.]\\d{2,4})', re.DOTALL),\n",
        "        'DIP': re.compile('DIP:\\s*?(\\d{1,2}[/\\-.]\\d{1,2}[/\\-.]\\d{2,4})', re.DOTALL)\n",
        "    }\n",
        "    if self.isEmpty():\n",
        "      print('>>>> Nenhum dado encontrado')\n",
        "      return\n",
        "    columns = patterns.keys()\n",
        "    data = {}\n",
        "    for label, pattern in patterns.items():\n",
        "      column = []\n",
        "      for source in self.sources:\n",
        "        match = pattern.search(source['content'])\n",
        "        if match:\n",
        "          column.append(match.group(1))\n",
        "        else:\n",
        "          column.append('')\n",
        "          print('>>>> Atributo \"' + label + '\" não encontrado em ' + source['name'])\n",
        "      data[label] = column\n",
        "    \n",
        "    self.df = pd.DataFrame(data, columns=columns)\n",
        "    self.df = self.df.fillna('')\n",
        "    self.df['especie'] = self.df['especie'].apply(obterEspecie)\n",
        "    self.csv = self.df.to_csv()\n",
        "\n",
        "  def show(self):\n",
        "    display(HTML(self.df.to_html()))\n",
        "\n",
        "  def download(self):\n",
        "    with open(LOTE + '.csv', 'w') as file:\n",
        "      file.write(self.df.to_csv())\n",
        "    files.download(LOTE + '.csv')\n",
        "\n",
        "reader = PDFReader()\n",
        "reader.read()\n",
        "reader.show()\n",
        "\n",
        "\n",
        "\n",
        "\n",
        "\n",
        "\n"
      ],
      "execution_count": 0,
      "outputs": []
    },
    {
      "cell_type": "markdown",
      "metadata": {
        "id": "TjDXa5zyARYK",
        "colab_type": "text"
      },
      "source": [
        "**BAIXAR CSV**\n",
        "\n",
        "4) Agora basta executar a célula abaixo para baixar o arquivo `csv`."
      ]
    },
    {
      "cell_type": "code",
      "metadata": {
        "id": "oi4RQQHcAgn4",
        "colab_type": "code",
        "colab": {}
      },
      "source": [
        "reader.download()"
      ],
      "execution_count": 0,
      "outputs": []
    }
  ]
}